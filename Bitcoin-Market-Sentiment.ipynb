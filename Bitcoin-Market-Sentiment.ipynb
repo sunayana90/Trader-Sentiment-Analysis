{
 "cells": [
  {
   "cell_type": "markdown",
   "id": "0310b4d2-27cf-41bf-9b79-a490b11adb72",
   "metadata": {},
   "source": [
    "# Trader Performance vs Market Sentiment Analysis\n",
    "### By Sunayana Yadav\n",
    "\n",
    "This project explores the relationship between Bitcoin market sentiment (Fear/Greed Index) and trader performance using Hyperliquid trading data.\n",
    "\n",
    "**Goal**: Discover patterns between emotions (fear/greed) and actual trader PnL to guide smarter crypto trading strategies."
   ]
  },
  {
   "cell_type": "code",
   "execution_count": 105,
   "id": "b679ea7b-27b0-4780-a539-01717cbbad3f",
   "metadata": {},
   "outputs": [],
   "source": [
    "#Import Libraries\n",
    "import pandas as pd\n",
    "import numpy as np\n",
    "import matplotlib.pyplot as plt\n",
    "import seaborn as sns"
   ]
  },
  {
   "cell_type": "code",
   "execution_count": 107,
   "id": "53f4e2dd-b368-420b-a247-e14885cb8a85",
   "metadata": {},
   "outputs": [],
   "source": [
    "#load the data\n",
    "trader_data = pd.read_csv(\"historical_data.csv\")\n",
    "sentiment_data = pd.read_csv(\"fear_greed_index.csv\")"
   ]
  },
  {
   "cell_type": "markdown",
   "id": "0f8f22eb-fee0-4b58-a23c-dda36951e998",
   "metadata": {},
   "source": [
    "**Data Preprocessing**"
   ]
  },
  {
   "cell_type": "code",
   "execution_count": 112,
   "id": "7c32b43c-7234-4d4f-8ae0-daa69033db9c",
   "metadata": {},
   "outputs": [],
   "source": [
    "# Convert timestamps\n",
    "trader_data['Timestamp'] = pd.to_datetime(trader_data['Timestamp'], unit='ms')\n",
    "trader_data['date'] = trader_data['Timestamp'].dt.date\n",
    "\n",
    "sentiment_data['date'] = pd.to_datetime(sentiment_data['date']).dt.date"
   ]
  },
  {
   "cell_type": "code",
   "execution_count": 118,
   "id": "a75f1df3-7eb7-4635-a7fe-377a43041f14",
   "metadata": {},
   "outputs": [],
   "source": [
    "#merg\n",
    "merged_data = pd.merge(trader_data, sentiment_data, on='date', how='inner')"
   ]
  },
  {
   "cell_type": "code",
   "execution_count": 120,
   "id": "bce99e18-765e-4b14-9541-0fb5b04aee0d",
   "metadata": {},
   "outputs": [
    {
     "data": {
      "text/html": [
       "<div>\n",
       "<style scoped>\n",
       "    .dataframe tbody tr th:only-of-type {\n",
       "        vertical-align: middle;\n",
       "    }\n",
       "\n",
       "    .dataframe tbody tr th {\n",
       "        vertical-align: top;\n",
       "    }\n",
       "\n",
       "    .dataframe thead th {\n",
       "        text-align: right;\n",
       "    }\n",
       "</style>\n",
       "<table border=\"1\" class=\"dataframe\">\n",
       "  <thead>\n",
       "    <tr style=\"text-align: right;\">\n",
       "      <th></th>\n",
       "      <th>Account</th>\n",
       "      <th>Coin</th>\n",
       "      <th>Execution Price</th>\n",
       "      <th>Size Tokens</th>\n",
       "      <th>Size USD</th>\n",
       "      <th>Side</th>\n",
       "      <th>Timestamp IST</th>\n",
       "      <th>Start Position</th>\n",
       "      <th>Direction</th>\n",
       "      <th>Closed PnL</th>\n",
       "      <th>Transaction Hash</th>\n",
       "      <th>Order ID</th>\n",
       "      <th>Crossed</th>\n",
       "      <th>Fee</th>\n",
       "      <th>Trade ID</th>\n",
       "      <th>Timestamp</th>\n",
       "      <th>date</th>\n",
       "      <th>timestamp</th>\n",
       "      <th>value</th>\n",
       "      <th>classification</th>\n",
       "    </tr>\n",
       "  </thead>\n",
       "  <tbody>\n",
       "    <tr>\n",
       "      <th>171000</th>\n",
       "      <td>0xbee1707d6b44d4d52bfe19e41f8a828645437aab</td>\n",
       "      <td>HYPE</td>\n",
       "      <td>15.84700</td>\n",
       "      <td>44.420</td>\n",
       "      <td>703.92</td>\n",
       "      <td>BUY</td>\n",
       "      <td>14-04-2025 14:25</td>\n",
       "      <td>-2637.63000</td>\n",
       "      <td>Close Short</td>\n",
       "      <td>3.371478</td>\n",
       "      <td>0xa6451f6ccd43fe3c9e1d042184cf1e019200427dff75...</td>\n",
       "      <td>86444364540</td>\n",
       "      <td>True</td>\n",
       "      <td>0.246373</td>\n",
       "      <td>3.020000e+14</td>\n",
       "      <td>2025-02-19 21:20:00</td>\n",
       "      <td>2025-02-19</td>\n",
       "      <td>1739943000</td>\n",
       "      <td>44</td>\n",
       "      <td>Fear</td>\n",
       "    </tr>\n",
       "    <tr>\n",
       "      <th>116060</th>\n",
       "      <td>0x28736f43f1e871e6aa8b1148d38d4994275d72c4</td>\n",
       "      <td>VIRTUAL</td>\n",
       "      <td>3.30750</td>\n",
       "      <td>43.800</td>\n",
       "      <td>144.87</td>\n",
       "      <td>BUY</td>\n",
       "      <td>30-12-2024 20:25</td>\n",
       "      <td>-198.00000</td>\n",
       "      <td>Close Short</td>\n",
       "      <td>8.978124</td>\n",
       "      <td>0x42a1d53d85b82dcd0212041a42bb8302022300997477...</td>\n",
       "      <td>59591603071</td>\n",
       "      <td>True</td>\n",
       "      <td>0.050703</td>\n",
       "      <td>9.890000e+14</td>\n",
       "      <td>2025-02-19 21:20:00</td>\n",
       "      <td>2025-02-19</td>\n",
       "      <td>1739943000</td>\n",
       "      <td>44</td>\n",
       "      <td>Fear</td>\n",
       "    </tr>\n",
       "    <tr>\n",
       "      <th>26763</th>\n",
       "      <td>0x75f7eeb85dc639d5e99c78f95393aa9a5f1170d4</td>\n",
       "      <td>PURR</td>\n",
       "      <td>0.22341</td>\n",
       "      <td>9123.000</td>\n",
       "      <td>2038.17</td>\n",
       "      <td>BUY</td>\n",
       "      <td>20-01-2025 14:16</td>\n",
       "      <td>-53583.00000</td>\n",
       "      <td>Close Short</td>\n",
       "      <td>86.486040</td>\n",
       "      <td>0xec67499c7dc68fce8e09041be8f618012e00646007de...</td>\n",
       "      <td>64771444394</td>\n",
       "      <td>False</td>\n",
       "      <td>0.195663</td>\n",
       "      <td>5.460000e+14</td>\n",
       "      <td>2025-02-19 21:20:00</td>\n",
       "      <td>2025-02-19</td>\n",
       "      <td>1739943000</td>\n",
       "      <td>44</td>\n",
       "      <td>Fear</td>\n",
       "    </tr>\n",
       "    <tr>\n",
       "      <th>6010</th>\n",
       "      <td>0x513b8629fe877bb581bf244e326a047b249c4ff1</td>\n",
       "      <td>BTC</td>\n",
       "      <td>85300.00000</td>\n",
       "      <td>0.074</td>\n",
       "      <td>6312.20</td>\n",
       "      <td>SELL</td>\n",
       "      <td>15-04-2025 09:08</td>\n",
       "      <td>16.14632</td>\n",
       "      <td>Close Long</td>\n",
       "      <td>40.714800</td>\n",
       "      <td>0xc59eda89a5f9e0551f550421919c2901b300f599525c...</td>\n",
       "      <td>86618342363</td>\n",
       "      <td>False</td>\n",
       "      <td>0.000000</td>\n",
       "      <td>1.020000e+15</td>\n",
       "      <td>2025-02-19 21:20:00</td>\n",
       "      <td>2025-02-19</td>\n",
       "      <td>1739943000</td>\n",
       "      <td>44</td>\n",
       "      <td>Fear</td>\n",
       "    </tr>\n",
       "    <tr>\n",
       "      <th>45040</th>\n",
       "      <td>0xb1231a4a2dd02f2276fa3c5e2a2f3436e6bfed23</td>\n",
       "      <td>HYPE</td>\n",
       "      <td>12.88300</td>\n",
       "      <td>155.250</td>\n",
       "      <td>2000.09</td>\n",
       "      <td>BUY</td>\n",
       "      <td>17-03-2025 04:33</td>\n",
       "      <td>0.00000</td>\n",
       "      <td>Open Long</td>\n",
       "      <td>0.000000</td>\n",
       "      <td>0x1a4dda292a7420b644b7041fb14bfd02013000d37465...</td>\n",
       "      <td>80240470430</td>\n",
       "      <td>True</td>\n",
       "      <td>0.700030</td>\n",
       "      <td>3.770000e+13</td>\n",
       "      <td>2025-02-19 21:20:00</td>\n",
       "      <td>2025-02-19</td>\n",
       "      <td>1739943000</td>\n",
       "      <td>44</td>\n",
       "      <td>Fear</td>\n",
       "    </tr>\n",
       "  </tbody>\n",
       "</table>\n",
       "</div>"
      ],
      "text/plain": [
       "                                           Account     Coin  Execution Price  \\\n",
       "171000  0xbee1707d6b44d4d52bfe19e41f8a828645437aab     HYPE         15.84700   \n",
       "116060  0x28736f43f1e871e6aa8b1148d38d4994275d72c4  VIRTUAL          3.30750   \n",
       "26763   0x75f7eeb85dc639d5e99c78f95393aa9a5f1170d4     PURR          0.22341   \n",
       "6010    0x513b8629fe877bb581bf244e326a047b249c4ff1      BTC      85300.00000   \n",
       "45040   0xb1231a4a2dd02f2276fa3c5e2a2f3436e6bfed23     HYPE         12.88300   \n",
       "\n",
       "        Size Tokens  Size USD  Side     Timestamp IST  Start Position  \\\n",
       "171000       44.420    703.92   BUY  14-04-2025 14:25     -2637.63000   \n",
       "116060       43.800    144.87   BUY  30-12-2024 20:25      -198.00000   \n",
       "26763      9123.000   2038.17   BUY  20-01-2025 14:16    -53583.00000   \n",
       "6010          0.074   6312.20  SELL  15-04-2025 09:08        16.14632   \n",
       "45040       155.250   2000.09   BUY  17-03-2025 04:33         0.00000   \n",
       "\n",
       "          Direction  Closed PnL  \\\n",
       "171000  Close Short    3.371478   \n",
       "116060  Close Short    8.978124   \n",
       "26763   Close Short   86.486040   \n",
       "6010     Close Long   40.714800   \n",
       "45040     Open Long    0.000000   \n",
       "\n",
       "                                         Transaction Hash     Order ID  \\\n",
       "171000  0xa6451f6ccd43fe3c9e1d042184cf1e019200427dff75...  86444364540   \n",
       "116060  0x42a1d53d85b82dcd0212041a42bb8302022300997477...  59591603071   \n",
       "26763   0xec67499c7dc68fce8e09041be8f618012e00646007de...  64771444394   \n",
       "6010    0xc59eda89a5f9e0551f550421919c2901b300f599525c...  86618342363   \n",
       "45040   0x1a4dda292a7420b644b7041fb14bfd02013000d37465...  80240470430   \n",
       "\n",
       "        Crossed       Fee      Trade ID           Timestamp        date  \\\n",
       "171000     True  0.246373  3.020000e+14 2025-02-19 21:20:00  2025-02-19   \n",
       "116060     True  0.050703  9.890000e+14 2025-02-19 21:20:00  2025-02-19   \n",
       "26763     False  0.195663  5.460000e+14 2025-02-19 21:20:00  2025-02-19   \n",
       "6010      False  0.000000  1.020000e+15 2025-02-19 21:20:00  2025-02-19   \n",
       "45040      True  0.700030  3.770000e+13 2025-02-19 21:20:00  2025-02-19   \n",
       "\n",
       "         timestamp  value classification  \n",
       "171000  1739943000     44           Fear  \n",
       "116060  1739943000     44           Fear  \n",
       "26763   1739943000     44           Fear  \n",
       "6010    1739943000     44           Fear  \n",
       "45040   1739943000     44           Fear  "
      ]
     },
     "execution_count": 120,
     "metadata": {},
     "output_type": "execute_result"
    }
   ],
   "source": [
    "merged_data.sample(5)"
   ]
  },
  {
   "cell_type": "markdown",
   "id": "5e2b6f43-731c-4f97-abb2-46fad9a485ea",
   "metadata": {},
   "source": [
    "**Exploratory Data Analysis (EDA)**"
   ]
  },
  {
   "cell_type": "code",
   "execution_count": 122,
   "id": "e778b501-1c0b-46c8-92b5-409abc40f0b2",
   "metadata": {},
   "outputs": [
    {
     "name": "stdout",
     "output_type": "stream",
     "text": [
      "Shape of Merged Data: (184263, 20)\n",
      "          Closed PnL      Size USD\n",
      "count  184263.000000  1.842630e+05\n",
      "mean       55.492690  4.780733e+03\n",
      "std       937.857954  2.690428e+04\n",
      "min   -117990.104100  0.000000e+00\n",
      "25%         0.000000  1.875300e+02\n",
      "50%         0.000000  5.927400e+02\n",
      "75%         6.602400  2.032705e+03\n",
      "max    135329.090100  3.509753e+06\n"
     ]
    }
   ],
   "source": [
    "print(\"Shape of Merged Data:\", merged_data.shape)\n",
    "print(merged_data[['classification', 'Closed PnL', 'Size USD']].describe())"
   ]
  },
  {
   "cell_type": "code",
   "execution_count": 126,
   "id": "7e215922-8172-4a5f-91e5-ee164dda06c2",
   "metadata": {},
   "outputs": [
    {
     "data": {
      "image/png": "[encoded data removed]",
      "text/plain": [
       "<Figure size 640x480 with 1 Axes>"
      ]
     },
     "metadata": {},
     "output_type": "display_data"
    }
   ],
   "source": [
    "import os\n",
    "os.makedirs(\"charts\", exist_ok=True)\n",
    "\n",
    "sns.boxplot(x='classification', y='Closed PnL', data=merged_data)\n",
    "plt.title('Closed PnL vs Market Sentiment (Fear/Greed)')\n",
    "plt.ylabel('Closed PnL ($)')\n",
    "plt.xlabel('Market Sentiment')\n",
    "plt.grid(True)\n",
    "\n",
    "plt.savefig(\"charts/pnl_by_sentiment.png\")  \n",
    "plt.show()"
   ]
  },
  {
   "cell_type": "code",
   "execution_count": 128,
   "id": "5235f5bc-122e-4c33-a1d6-60d5d5cd3ef6",
   "metadata": {},
   "outputs": [
    {
     "data": {
      "image/png": "[encoded data removed]",
      "text/plain": [
       "<Figure size 640x480 with 1 Axes>"
      ]
     },
     "metadata": {},
     "output_type": "display_data"
    }
   ],
   "source": [
    "volume_sentiment = merged_data.groupby('classification')['Size USD'].sum().sort_values()\n",
    "volume_sentiment.plot(kind='bar', color='skyblue')\n",
    "plt.title('Total Trade Volume by Market Sentiment')\n",
    "plt.ylabel('Total USD Traded')\n",
    "plt.xlabel('Market Sentiment')\n",
    "plt.grid(True)\n",
    "plt.savefig(\"charts/volume_by_sentiment.png\")\n",
    "plt.show()"
   ]
  },
  {
   "cell_type": "code",
   "execution_count": 130,
   "id": "260931ac-ca95-4737-a664-bc7e75cf32ac",
   "metadata": {},
   "outputs": [
    {
     "name": "stdout",
     "output_type": "stream",
     "text": [
      "Average PnL by Sentiment:\n",
      " classification\n",
      "Extreme Greed    25.418772\n",
      "Fear             50.047622\n",
      "Greed            87.894859\n",
      "Neutral          22.229713\n",
      "Name: Closed PnL, dtype: float64\n"
     ]
    }
   ],
   "source": [
    "avg_pnl = merged_data.groupby('classification')['Closed PnL'].mean()\n",
    "print(\"Average PnL by Sentiment:\\n\", avg_pnl)"
   ]
  },
  {
   "cell_type": "markdown",
   "id": "b3480ad7-7d41-4842-93f1-6b2faf953f24",
   "metadata": {},
   "source": [
    "**Key Findings:**\r\n",
    "\r\n",
    "- Highest average profits occur on **Greed** days.\r\n",
    "- **Fear** days have the largest volume but mixed results.\r\n",
    "- Extreme sentiment leads to more volatility in nL.\r\n"
   ]
  },
  {
   "cell_type": "markdown",
   "id": "42a7cac0-13dd-4350-bed6-173375e27d95",
   "metadata": {},
   "source": [
    "## Conclusion\n",
    "\n",
    "- Traders earned highest PnL on **Greed** days ($87.89).\n",
    "  \n",
    "- **Fear** days had highest trading volume (~$704M), with moderate average PnL.\n",
    "- **Extreme sentiment** increases volatility.\n",
    "- These insights can help develop better trading strategies based on market mood.\n"
   ]
  }
 ],
 "metadata": {
  "kernelspec": {
   "display_name": "Python [conda env:base] *",
   "language": "python",
   "name": "conda-base-py"
  },
  "language_info": {
   "codemirror_mode": {
    "name": "ipython",
    "version": 3
   },
   "file_extension": ".py",
   "mimetype": "text/x-python",
   "name": "python",
   "nbconvert_exporter": "python",
   "pygments_lexer": "ipython3",
   "version": "3.12.4"
  }
 },
 "nbformat": 4,
 "nbformat_minor": 5
}
